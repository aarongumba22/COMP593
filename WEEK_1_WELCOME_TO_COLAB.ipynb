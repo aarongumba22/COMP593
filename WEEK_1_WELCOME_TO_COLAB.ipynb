{
  "nbformat": 4,
  "nbformat_minor": 0,
  "metadata": {
    "colab": {
      "name": "WEEK 1 WELCOME TO COLAB",
      "provenance": [],
      "collapsed_sections": [],
      "toc_visible": true,
      "include_colab_link": true
    },
    "kernelspec": {
      "display_name": "Python 3",
      "name": "python3"
    }
  },
  "cells": [
    {
      "cell_type": "markdown",
      "metadata": {
        "id": "view-in-github",
        "colab_type": "text"
      },
      "source": [
        "<a href=\"https://colab.research.google.com/github/aarongumba22/COMP593/blob/main/WEEK_1_WELCOME_TO_COLAB.ipynb\" target=\"_parent\"><img src=\"https://colab.research.google.com/assets/colab-badge.svg\" alt=\"Open In Colab\"/></a>"
      ]
    },
    {
      "cell_type": "markdown",
      "metadata": {
        "id": "GJBs_flRovLc"
      },
      "source": [
        "## **Welcome to COMP 593!**\n",
        "\n",
        "For your first lab, we will experiment with running a script, and saving our project to our personal github repositories:"
      ]
    },
    {
      "cell_type": "markdown",
      "metadata": {
        "id": "xn279PBwVnDj"
      },
      "source": [
        "##Installing Dependancies##\n",
        "\n",
        "Dependancies are routines, Objects, and methods that a project requires. We add Dependancies to our project in the form of **Libraries** when we want to unlock functionality that already exists, this could be as simple as file IO or as complex as fully fledged Machine Learning libraries. Libraries can be added to our project manually, by downloading them and placing them in our runtime enviornment, or using a **Package Manager** such as PIP."
      ]
    },
    {
      "cell_type": "markdown",
      "metadata": {
        "id": "-IWb3REjW5T0"
      },
      "source": [
        "Run the below code to download the **pyfiglet** library, which we will use to generate some ASCII art."
      ]
    },
    {
      "cell_type": "code",
      "metadata": {
        "id": "ARUZhh6MS7nA",
        "colab": {
          "base_uri": "https://localhost:8080/"
        },
        "outputId": "ba6d09a4-8b40-47bb-833f-7fc99a7c898e"
      },
      "source": [
        "pip install pyfiglet\n"
      ],
      "execution_count": null,
      "outputs": [
        {
          "output_type": "stream",
          "name": "stdout",
          "text": [
            "Collecting pyfiglet\n",
            "  Downloading pyfiglet-0.8.post1-py2.py3-none-any.whl (865 kB)\n",
            "\u001b[K     |████████████████████████████████| 865 kB 4.1 MB/s \n",
            "\u001b[?25hInstalling collected packages: pyfiglet\n",
            "Successfully installed pyfiglet-0.8.post1\n"
          ]
        }
      ]
    },
    {
      "cell_type": "markdown",
      "metadata": {
        "id": "SNXKhb5XXqF4"
      },
      "source": [
        "There are *hundreds of thousands* of python libraries at your disposal. Some may suit your needs better than others depending on the goals of your scripts or applications. The [PyPi Repository](https://https://pypi.org/) contains a serchable database of packages that are installable via the pip package manager.\n",
        "\n",
        "Run the code below to get an idea of the number of packages that are included for your user within Colab. You don't need to know what all of these do, but it should indicate that python is a very powerful language."
      ]
    },
    {
      "cell_type": "code",
      "metadata": {
        "id": "C7A8viiJXiDs"
      },
      "source": [
        "pip list"
      ],
      "execution_count": null,
      "outputs": []
    },
    {
      "cell_type": "markdown",
      "metadata": {
        "id": "zopYZ3PcY6hR"
      },
      "source": [
        "If you would like to see if pyfiglet was installed, you could scan the list above, or you could **pipe** the output of `pip list` to a console command known as `grep` that will filter for specific strings. This is an example of **redirecting output,** which you have learned about already.\n",
        "\n",
        "\n"
      ]
    },
    {
      "cell_type": "code",
      "metadata": {
        "id": "oAMcMjbLZMIE",
        "colab": {
          "base_uri": "https://localhost:8080/"
        },
        "outputId": "06cab255-98e4-4999-9716-05ba7b9fb596"
      },
      "source": [
        "pip list | grep pyfiglet"
      ],
      "execution_count": null,
      "outputs": [
        {
          "output_type": "stream",
          "name": "stdout",
          "text": [
            "pyfiglet                      0.8.post1\n"
          ]
        }
      ]
    },
    {
      "cell_type": "markdown",
      "metadata": {
        "id": "gt5dp771Yc2c"
      },
      "source": [
        "# Writing Our Script"
      ]
    },
    {
      "cell_type": "markdown",
      "metadata": {
        "id": "Hh36394HaB3g"
      },
      "source": [
        "The intention of this Colab introduction is to get you familiar with using google Colab to accomplish scripting goals. Today, we will be using the `pyfiglet` library we have just installed to output some text. To understand the methods available to us in `pyfiglet` we can look up [the github repository.](https://github.com/pwaller/pyfiglet)\n",
        "\n",
        "***Remember: Since open source packages are at the mercy of their developers or maintainers, comprehensive documentation is never a guarantee.***\n",
        "\n",
        "The help documentation outlines a command line `--help` argument, which means that documentation exists. We can't call command line arguments for imported libraries in colab, but we *can* accomplish the same goal in colab by using the python `help([Object])` function."
      ]
    },
    {
      "cell_type": "code",
      "metadata": {
        "id": "zR6mZpfkgRxd",
        "colab": {
          "base_uri": "https://localhost:8080/"
        },
        "outputId": "52b54460-be86-41c9-e9ab-92d4cbab2922"
      },
      "source": [
        "from pyfiglet import Figlet\n",
        "\n",
        "help(Figlet)"
      ],
      "execution_count": null,
      "outputs": [
        {
          "output_type": "stream",
          "name": "stdout",
          "text": [
            "Help on class Figlet in module pyfiglet:\n",
            "\n",
            "class Figlet(builtins.object)\n",
            " |  Figlet(font='standard', direction='auto', justify='auto', width=80)\n",
            " |  \n",
            " |  Main figlet class.\n",
            " |  \n",
            " |  Methods defined here:\n",
            " |  \n",
            " |  __init__(self, font='standard', direction='auto', justify='auto', width=80)\n",
            " |      Initialize self.  See help(type(self)) for accurate signature.\n",
            " |  \n",
            " |  getDirection(self)\n",
            " |  \n",
            " |  getFonts(self)\n",
            " |  \n",
            " |  getJustify(self)\n",
            " |  \n",
            " |  renderText(self, text)\n",
            " |  \n",
            " |  setFont(self, **kwargs)\n",
            " |  \n",
            " |  ----------------------------------------------------------------------\n",
            " |  Data descriptors defined here:\n",
            " |  \n",
            " |  __dict__\n",
            " |      dictionary for instance variables (if defined)\n",
            " |  \n",
            " |  __weakref__\n",
            " |      list of weak references to the object (if defined)\n",
            " |  \n",
            " |  direction\n",
            " |  \n",
            " |  justify\n",
            "\n"
          ]
        }
      ]
    },
    {
      "cell_type": "markdown",
      "metadata": {
        "id": "UxKlfQJrmq4N"
      },
      "source": [
        "Using this function we can see that the `Figlet` object has several methods available. This will bring us to your task:\n",
        "\n",
        "\n",
        "**In the editor below, finish a script that accomplishes the following goals:**\n",
        "\n",
        "1.   Prompt the user to select from a list of 5 fonts.\n",
        "2.   Prompt the user to input the string they would like output in that font.\n",
        "3.   Render the text using the selected font.\n",
        "\n",
        "*Hint:* Call the `getFonts()` method to get a list of the available fonts."
      ]
    },
    {
      "cell_type": "code",
      "metadata": {
        "id": "b2y8sufRoEpR"
      },
      "source": [
        "from pyfiglet import Figlet\n",
        "\n",
        "#Instantiate a Figlet Object\n",
        "f= Figlet()\n",
        "\n",
        "#choices of fonts and how it will look like\n",
        "s =f.setFont (font =\"starwars\")\n",
        "print(f.renderText(\"1.Starwars\"))\n",
        "\n",
        "p= f.setFont (font =\"pyramid\")\n",
        "print(f.renderText(\"2.Pyramid\"))\n",
        "\n",
        "i=f.setFont (font =\"italic\")\n",
        "print(f.renderText(\"3.Italic\"))\n",
        "\n",
        "t=f.setFont (font =\"threepoint\")\n",
        "print(f.renderText(\"4.Threepoint\"))\n",
        "\n",
        "g=f.setFont (font =\"gothic\")\n",
        "print(f.renderText(\"5.Gothic\"))\n",
        "\n",
        "#Prompt the user to select a font\n",
        "selectedFont = input(\"Select a font: \\n 1. Starwars \\n 2. Pyramid \\n 3. Italic \\n 4. Threepoint \\n 5. Gothic \\n\" )\n",
        "\n",
        "#Prompt the user to type a message\n",
        "user_message =input(\"Enter your message that would be transformed to \" + selectedFont + \":\\n \")\n",
        "\n",
        "#saves the input of the user in lowercase\n",
        "choosen_f = selectedFont.lower()\n",
        "\n",
        "#render the desired font of the user\n",
        "preferred=f.setFont(font=choosen_f)\n",
        "\n",
        "#prints the message of the user in the desire font\n",
        "print(f.renderText((user_message)))\n",
        "\n",
        "\n",
        "\n",
        " "
      ],
      "execution_count": null,
      "outputs": []
    },
    {
      "cell_type": "markdown",
      "source": [
        "Twitter pulse checker required a lot of importing such as pandas,numpy,tweepy and so on. The notebook's purpose was to gather tweets related to the topic of interest, analyze and visualize it.\n"
      ],
      "metadata": {
        "id": "dVWF_cCRfmrR"
      }
    },
    {
      "cell_type": "markdown",
      "metadata": {
        "id": "wXiyORkQqUfz"
      },
      "source": [
        "# Submitting your Script"
      ]
    },
    {
      "cell_type": "markdown",
      "metadata": {
        "id": "eUMXNhytqZY6"
      },
      "source": [
        "Once you have succesfully completed your script, make sure to save it to your github account. (Take a look [at the official colab instructions](https://colab.research.google.com/github/googlecolab/colabtools/blob/master/notebooks/colab-github-demo.ipynb) if you need a refresher.)"
      ]
    }
  ]
}
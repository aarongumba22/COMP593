{
  "nbformat": 4,
  "nbformat_minor": 0,
  "metadata": {
    "colab": {
      "name": "WEEK 1 WELCOME TO COLAB",
      "provenance": [],
      "collapsed_sections": [],
      "toc_visible": true,
      "include_colab_link": true
    },
    "kernelspec": {
      "display_name": "Python 3",
      "name": "python3"
    }
  },
  "cells": [
    {
      "cell_type": "markdown",
      "metadata": {
        "id": "view-in-github",
        "colab_type": "text"
      },
      "source": [
        "<a href=\"https://colab.research.google.com/github/aarongumba22/COMP593/blob/practice/WEEK_1_WELCOME_TO_COLAB.ipynb\" target=\"_parent\"><img src=\"https://colab.research.google.com/assets/colab-badge.svg\" alt=\"Open In Colab\"/></a>"
      ]
    },
    {
      "cell_type": "markdown",
      "metadata": {
        "id": "GJBs_flRovLc"
      },
      "source": [
        "## **Welcome to COMP 593!**\n",
        "\n",
        "For your first lab, we will experiment with running a script, and saving our project to our personal github repositories:"
      ]
    },
    {
      "cell_type": "markdown",
      "metadata": {
        "id": "xn279PBwVnDj"
      },
      "source": [
        "##Installing Dependancies##\n",
        "\n",
        "Dependancies are routines, Objects, and methods that a project requires. We add Dependancies to our project in the form of **Libraries** when we want to unlock functionality that already exists, this could be as simple as file IO or as complex as fully fledged Machine Learning libraries. Libraries can be added to our project manually, by downloading them and placing them in our runtime enviornment, or using a **Package Manager** such as PIP."
      ]
    },
    {
      "cell_type": "markdown",
      "metadata": {
        "id": "-IWb3REjW5T0"
      },
      "source": [
        "Run the below code to download the **pyfiglet** library, which we will use to generate some ASCII art."
      ]
    },
    {
      "cell_type": "code",
      "metadata": {
        "id": "ARUZhh6MS7nA",
        "colab": {
          "base_uri": "https://localhost:8080/"
        },
        "outputId": "e5e8d1e4-8332-4668-a784-b7eda90350eb"
      },
      "source": [
        "pip install pyfiglet\n"
      ],
      "execution_count": null,
      "outputs": [
        {
          "output_type": "stream",
          "name": "stdout",
          "text": [
            "Collecting pyfiglet\n",
            "  Downloading pyfiglet-0.8.post1-py2.py3-none-any.whl (865 kB)\n",
            "\u001b[?25l\r\u001b[K     |▍                               | 10 kB 21.7 MB/s eta 0:00:01\r\u001b[K     |▊                               | 20 kB 15.6 MB/s eta 0:00:01\r\u001b[K     |█▏                              | 30 kB 9.3 MB/s eta 0:00:01\r\u001b[K     |█▌                              | 40 kB 8.6 MB/s eta 0:00:01\r\u001b[K     |██                              | 51 kB 5.1 MB/s eta 0:00:01\r\u001b[K     |██▎                             | 61 kB 5.3 MB/s eta 0:00:01\r\u001b[K     |██▋                             | 71 kB 5.6 MB/s eta 0:00:01\r\u001b[K     |███                             | 81 kB 6.1 MB/s eta 0:00:01\r\u001b[K     |███▍                            | 92 kB 4.6 MB/s eta 0:00:01\r\u001b[K     |███▉                            | 102 kB 5.0 MB/s eta 0:00:01\r\u001b[K     |████▏                           | 112 kB 5.0 MB/s eta 0:00:01\r\u001b[K     |████▌                           | 122 kB 5.0 MB/s eta 0:00:01\r\u001b[K     |█████                           | 133 kB 5.0 MB/s eta 0:00:01\r\u001b[K     |█████▎                          | 143 kB 5.0 MB/s eta 0:00:01\r\u001b[K     |█████▊                          | 153 kB 5.0 MB/s eta 0:00:01\r\u001b[K     |██████                          | 163 kB 5.0 MB/s eta 0:00:01\r\u001b[K     |██████▍                         | 174 kB 5.0 MB/s eta 0:00:01\r\u001b[K     |██████▉                         | 184 kB 5.0 MB/s eta 0:00:01\r\u001b[K     |███████▏                        | 194 kB 5.0 MB/s eta 0:00:01\r\u001b[K     |███████▋                        | 204 kB 5.0 MB/s eta 0:00:01\r\u001b[K     |████████                        | 215 kB 5.0 MB/s eta 0:00:01\r\u001b[K     |████████▎                       | 225 kB 5.0 MB/s eta 0:00:01\r\u001b[K     |████████▊                       | 235 kB 5.0 MB/s eta 0:00:01\r\u001b[K     |█████████                       | 245 kB 5.0 MB/s eta 0:00:01\r\u001b[K     |█████████▌                      | 256 kB 5.0 MB/s eta 0:00:01\r\u001b[K     |█████████▉                      | 266 kB 5.0 MB/s eta 0:00:01\r\u001b[K     |██████████▏                     | 276 kB 5.0 MB/s eta 0:00:01\r\u001b[K     |██████████▋                     | 286 kB 5.0 MB/s eta 0:00:01\r\u001b[K     |███████████                     | 296 kB 5.0 MB/s eta 0:00:01\r\u001b[K     |███████████▍                    | 307 kB 5.0 MB/s eta 0:00:01\r\u001b[K     |███████████▊                    | 317 kB 5.0 MB/s eta 0:00:01\r\u001b[K     |████████████                    | 327 kB 5.0 MB/s eta 0:00:01\r\u001b[K     |████████████▌                   | 337 kB 5.0 MB/s eta 0:00:01\r\u001b[K     |████████████▉                   | 348 kB 5.0 MB/s eta 0:00:01\r\u001b[K     |█████████████▎                  | 358 kB 5.0 MB/s eta 0:00:01\r\u001b[K     |█████████████▋                  | 368 kB 5.0 MB/s eta 0:00:01\r\u001b[K     |██████████████                  | 378 kB 5.0 MB/s eta 0:00:01\r\u001b[K     |██████████████▍                 | 389 kB 5.0 MB/s eta 0:00:01\r\u001b[K     |██████████████▊                 | 399 kB 5.0 MB/s eta 0:00:01\r\u001b[K     |███████████████▏                | 409 kB 5.0 MB/s eta 0:00:01\r\u001b[K     |███████████████▌                | 419 kB 5.0 MB/s eta 0:00:01\r\u001b[K     |████████████████                | 430 kB 5.0 MB/s eta 0:00:01\r\u001b[K     |████████████████▎               | 440 kB 5.0 MB/s eta 0:00:01\r\u001b[K     |████████████████▋               | 450 kB 5.0 MB/s eta 0:00:01\r\u001b[K     |█████████████████               | 460 kB 5.0 MB/s eta 0:00:01\r\u001b[K     |█████████████████▍              | 471 kB 5.0 MB/s eta 0:00:01\r\u001b[K     |█████████████████▉              | 481 kB 5.0 MB/s eta 0:00:01\r\u001b[K     |██████████████████▏             | 491 kB 5.0 MB/s eta 0:00:01\r\u001b[K     |██████████████████▌             | 501 kB 5.0 MB/s eta 0:00:01\r\u001b[K     |███████████████████             | 512 kB 5.0 MB/s eta 0:00:01\r\u001b[K     |███████████████████▎            | 522 kB 5.0 MB/s eta 0:00:01\r\u001b[K     |███████████████████▊            | 532 kB 5.0 MB/s eta 0:00:01\r\u001b[K     |████████████████████            | 542 kB 5.0 MB/s eta 0:00:01\r\u001b[K     |████████████████████▍           | 552 kB 5.0 MB/s eta 0:00:01\r\u001b[K     |████████████████████▉           | 563 kB 5.0 MB/s eta 0:00:01\r\u001b[K     |█████████████████████▏          | 573 kB 5.0 MB/s eta 0:00:01\r\u001b[K     |█████████████████████▋          | 583 kB 5.0 MB/s eta 0:00:01\r\u001b[K     |██████████████████████          | 593 kB 5.0 MB/s eta 0:00:01\r\u001b[K     |██████████████████████▎         | 604 kB 5.0 MB/s eta 0:00:01\r\u001b[K     |██████████████████████▊         | 614 kB 5.0 MB/s eta 0:00:01\r\u001b[K     |███████████████████████         | 624 kB 5.0 MB/s eta 0:00:01\r\u001b[K     |███████████████████████▌        | 634 kB 5.0 MB/s eta 0:00:01\r\u001b[K     |███████████████████████▉        | 645 kB 5.0 MB/s eta 0:00:01\r\u001b[K     |████████████████████████▏       | 655 kB 5.0 MB/s eta 0:00:01\r\u001b[K     |████████████████████████▋       | 665 kB 5.0 MB/s eta 0:00:01\r\u001b[K     |█████████████████████████       | 675 kB 5.0 MB/s eta 0:00:01\r\u001b[K     |█████████████████████████▍      | 686 kB 5.0 MB/s eta 0:00:01\r\u001b[K     |█████████████████████████▊      | 696 kB 5.0 MB/s eta 0:00:01\r\u001b[K     |██████████████████████████▏     | 706 kB 5.0 MB/s eta 0:00:01\r\u001b[K     |██████████████████████████▌     | 716 kB 5.0 MB/s eta 0:00:01\r\u001b[K     |██████████████████████████▉     | 727 kB 5.0 MB/s eta 0:00:01\r\u001b[K     |███████████████████████████▎    | 737 kB 5.0 MB/s eta 0:00:01\r\u001b[K     |███████████████████████████▋    | 747 kB 5.0 MB/s eta 0:00:01\r\u001b[K     |████████████████████████████    | 757 kB 5.0 MB/s eta 0:00:01\r\u001b[K     |████████████████████████████▍   | 768 kB 5.0 MB/s eta 0:00:01\r\u001b[K     |████████████████████████████▊   | 778 kB 5.0 MB/s eta 0:00:01\r\u001b[K     |█████████████████████████████▏  | 788 kB 5.0 MB/s eta 0:00:01\r\u001b[K     |█████████████████████████████▌  | 798 kB 5.0 MB/s eta 0:00:01\r\u001b[K     |██████████████████████████████  | 808 kB 5.0 MB/s eta 0:00:01\r\u001b[K     |██████████████████████████████▎ | 819 kB 5.0 MB/s eta 0:00:01\r\u001b[K     |██████████████████████████████▋ | 829 kB 5.0 MB/s eta 0:00:01\r\u001b[K     |███████████████████████████████ | 839 kB 5.0 MB/s eta 0:00:01\r\u001b[K     |███████████████████████████████▍| 849 kB 5.0 MB/s eta 0:00:01\r\u001b[K     |███████████████████████████████▉| 860 kB 5.0 MB/s eta 0:00:01\r\u001b[K     |████████████████████████████████| 865 kB 5.0 MB/s \n",
            "\u001b[?25hInstalling collected packages: pyfiglet\n",
            "Successfully installed pyfiglet-0.8.post1\n"
          ]
        }
      ]
    },
    {
      "cell_type": "markdown",
      "metadata": {
        "id": "SNXKhb5XXqF4"
      },
      "source": [
        "There are *hundreds of thousands* of python libraries at your disposal. Some may suit your needs better than others depending on the goals of your scripts or applications. The [PyPi Repository](https://https://pypi.org/) contains a serchable database of packages that are installable via the pip package manager.\n",
        "\n",
        "Run the code below to get an idea of the number of packages that are included for your user within Colab. You don't need to know what all of these do, but it should indicate that python is a very powerful language."
      ]
    },
    {
      "cell_type": "code",
      "metadata": {
        "id": "C7A8viiJXiDs"
      },
      "source": [
        "pip list"
      ],
      "execution_count": null,
      "outputs": []
    },
    {
      "cell_type": "markdown",
      "metadata": {
        "id": "zopYZ3PcY6hR"
      },
      "source": [
        "If you would like to see if pyfiglet was installed, you could scan the list above, or you could **pipe** the output of `pip list` to a console command known as `grep` that will filter for specific strings. This is an example of **redirecting output,** which you have learned about already.\n",
        "\n",
        "\n"
      ]
    },
    {
      "cell_type": "code",
      "metadata": {
        "id": "oAMcMjbLZMIE",
        "colab": {
          "base_uri": "https://localhost:8080/"
        },
        "outputId": "06cab255-98e4-4999-9716-05ba7b9fb596"
      },
      "source": [
        "pip list | grep pyfiglet"
      ],
      "execution_count": null,
      "outputs": [
        {
          "output_type": "stream",
          "name": "stdout",
          "text": [
            "pyfiglet                      0.8.post1\n"
          ]
        }
      ]
    },
    {
      "cell_type": "markdown",
      "metadata": {
        "id": "gt5dp771Yc2c"
      },
      "source": [
        "# Writing Our Script"
      ]
    },
    {
      "cell_type": "markdown",
      "metadata": {
        "id": "Hh36394HaB3g"
      },
      "source": [
        "The intention of this Colab introduction is to get you familiar with using google Colab to accomplish scripting goals. Today, we will be using the `pyfiglet` library we have just installed to output some text. To understand the methods available to us in `pyfiglet` we can look up [the github repository.](https://github.com/pwaller/pyfiglet)\n",
        "\n",
        "***Remember: Since open source packages are at the mercy of their developers or maintainers, comprehensive documentation is never a guarantee.***\n",
        "\n",
        "The help documentation outlines a command line `--help` argument, which means that documentation exists. We can't call command line arguments for imported libraries in colab, but we *can* accomplish the same goal in colab by using the python `help([Object])` function."
      ]
    },
    {
      "cell_type": "code",
      "metadata": {
        "id": "zR6mZpfkgRxd",
        "colab": {
          "base_uri": "https://localhost:8080/"
        },
        "outputId": "52b54460-be86-41c9-e9ab-92d4cbab2922"
      },
      "source": [
        "from pyfiglet import Figlet\n",
        "\n",
        "help(Figlet)"
      ],
      "execution_count": null,
      "outputs": [
        {
          "output_type": "stream",
          "name": "stdout",
          "text": [
            "Help on class Figlet in module pyfiglet:\n",
            "\n",
            "class Figlet(builtins.object)\n",
            " |  Figlet(font='standard', direction='auto', justify='auto', width=80)\n",
            " |  \n",
            " |  Main figlet class.\n",
            " |  \n",
            " |  Methods defined here:\n",
            " |  \n",
            " |  __init__(self, font='standard', direction='auto', justify='auto', width=80)\n",
            " |      Initialize self.  See help(type(self)) for accurate signature.\n",
            " |  \n",
            " |  getDirection(self)\n",
            " |  \n",
            " |  getFonts(self)\n",
            " |  \n",
            " |  getJustify(self)\n",
            " |  \n",
            " |  renderText(self, text)\n",
            " |  \n",
            " |  setFont(self, **kwargs)\n",
            " |  \n",
            " |  ----------------------------------------------------------------------\n",
            " |  Data descriptors defined here:\n",
            " |  \n",
            " |  __dict__\n",
            " |      dictionary for instance variables (if defined)\n",
            " |  \n",
            " |  __weakref__\n",
            " |      list of weak references to the object (if defined)\n",
            " |  \n",
            " |  direction\n",
            " |  \n",
            " |  justify\n",
            "\n"
          ]
        }
      ]
    },
    {
      "cell_type": "markdown",
      "metadata": {
        "id": "UxKlfQJrmq4N"
      },
      "source": [
        "Using this function we can see that the `Figlet` object has several methods available. This will bring us to your task:\n",
        "\n",
        "\n",
        "**In the editor below, finish a script that accomplishes the following goals:**\n",
        "\n",
        "1.   Prompt the user to select from a list of 5 fonts.\n",
        "2.   Prompt the user to input the string they would like output in that font.\n",
        "3.   Render the text using the selected font.\n",
        "\n",
        "*Hint:* Call the `getFonts()` method to get a list of the available fonts."
      ]
    },
    {
      "cell_type": "code",
      "metadata": {
        "id": "b2y8sufRoEpR",
        "colab": {
          "base_uri": "https://localhost:8080/"
        },
        "outputId": "17254a2f-a3e6-4244-c43a-87b7e67117e4"
      },
      "source": [
        "from pyfiglet import Figlet\n",
        "\n",
        "#Instantiate a Figlet Object\n",
        "f= Figlet()\n",
        "\n",
        "s =f.setFont (font =\"starwars\")\n",
        "print(f.renderText(\"1.Starwars\"))\n",
        "\n",
        "p= f.setFont (font =\"pyramid\")\n",
        "print(f.renderText(\"2.Pyramid\"))\n",
        "\n",
        "i=f.setFont (font =\"italic\")\n",
        "print(f.renderText(\"3.Italic\"))\n",
        "\n",
        "t=f.setFont (font =\"threepoint\")\n",
        "print(f.renderText(\"4.Threepoint\"))\n",
        "\n",
        "g=f.setFont (font =\"gothic\")\n",
        "print(f.renderText(\"5.Gothic\"))\n",
        "\n",
        "#Prompt the user to select a font\n",
        "selectedFont = input(\"Select a font: \\n 1. Starwars \\n 2. Pyramid \\n 3. Italic \\n 4. Threepoint \\n 5. Gothic \\n\" )\n",
        "\n",
        "#Prompt the user to type a message\n",
        "user_message =input(\"Enter your message that would be transformed to \" + selectedFont + \":\\n \")\n",
        "\n",
        "\n",
        "choosen_f = selectedFont.lower()\n",
        "preferred=f.setFont(font=choosen_f)\n",
        "print(f.renderText((user_message)))\n",
        "\n",
        "\n",
        "\n",
        " "
      ],
      "execution_count": null,
      "outputs": [
        {
          "metadata": {
            "tags": null
          },
          "name": "stdout",
          "output_type": "stream",
          "text": [
            " __          _______.___________.    ___      .______     ____    __    ____ \n",
            "/_ |        /       |           |   /   \\     |   _  \\    \\   \\  /  \\  /   / \n",
            " | |       |   (----`---|  |----`  /  ^  \\    |  |_)  |    \\   \\/    \\/   /  \n",
            " | |        \\   \\       |  |      /  /_\\  \\   |      /      \\            /   \n",
            " | |  __.----)   |      |  |     /  _____  \\  |  |\\  \\----.  \\    /\\    /    \n",
            " |_| (__)_______/       |__|    /__/     \\__\\ | _| `._____|   \\__/  \\__/     \n",
            "                                                                             \n",
            "     ___      .______          _______.\n",
            "    /   \\     |   _  \\        /       |\n",
            "   /  ^  \\    |  |_)  |      |   (----`\n",
            "  /  /_\\  \\   |      /        \\   \\    \n",
            " /  _____  \\  |  |\\  \\----.----)   |   \n",
            "/__/     \\__\\ | _| `._____|_______/    \n",
            "                                       \n",
            "\n",
            "  ^    ^    ^    ^    ^    ^    ^    ^    ^  \n",
            " /2\\  /.\\  /P\\  /y\\  /r\\  /a\\  /m\\  /i\\  /d\\ \n",
            "<___><___><___><___><___><___><___><___><___>\n",
            "\n",
            " _              \n",
            " _)    /_/_ /'_ \n",
            "__).  ( /(/(/(  \n",
            "                \n",
            "\n",
            "|_| ~|~|_  _ _  _  _  _ . _ _|_\n",
            "  |. | | || (/_(/_|_)(_)|| | | \n",
            "                  |            \n",
            "\n",
            "____         __ ,                           \n",
            "||  `      ,-| ~           ,  ,,            \n",
            "||_       ('||/__,        ||  ||     '      \n",
            "|/ \\     (( |||  |  /'\\\\ =||= ||/\\\\ \\\\  _-_ \n",
            "   ))    (( |||==| || ||  ||  || || || ||   \n",
            "  //      ( / |  , || ||  ||  || || || ||   \n",
            " /'   <>   -____/  \\\\,/   \\\\, \\\\ |/ \\\\ \\\\,/ \n",
            "                                _/          \n",
            "                                            \n",
            "\n",
            "That's not in the choices,pls choose a proper one.\n"
          ]
        }
      ]
    },
    {
      "cell_type": "markdown",
      "metadata": {
        "id": "wXiyORkQqUfz"
      },
      "source": [
        "# Submitting your Script"
      ]
    },
    {
      "cell_type": "markdown",
      "metadata": {
        "id": "eUMXNhytqZY6"
      },
      "source": [
        "Once you have succesfully completed your script, make sure to save it to your github account. (Take a look [at the official colab instructions](https://colab.research.google.com/github/googlecolab/colabtools/blob/master/notebooks/colab-github-demo.ipynb) if you need a refresher.)"
      ]
    }
  ]
}